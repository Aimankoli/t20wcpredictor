{
 "cells": [
  {
   "cell_type": "code",
   "execution_count": 3,
   "id": "cfa7cc8b-c928-44bc-9925-7b20cc0eda82",
   "metadata": {},
   "outputs": [],
   "source": [
    "import pandas as pd\n",
    "from yaml import safe_load\n",
    "import numpy as np\n",
    "import os\n",
    "from tqdm import tqdm"
   ]
  },
  {
   "cell_type": "code",
   "execution_count": 4,
   "id": "d71b48be-9aab-498b-9092-ec9b19451803",
   "metadata": {},
   "outputs": [],
   "source": [
    "files = []\n",
    "for file in os.listdir('data'):\n",
    "    files.append(os.path.join('data', file))"
   ]
  },
  {
   "cell_type": "code",
   "execution_count": 5,
   "id": "e1928ccf-c846-4f69-babe-c1ed18f5ee6a",
   "metadata": {},
   "outputs": [
    {
     "name": "stdout",
     "output_type": "stream",
     "text": [
      "['data\\\\1001349.yaml', 'data\\\\1001351.yaml', 'data\\\\1001353.yaml', 'data\\\\1004729.yaml', 'data\\\\1007655.yaml']\n"
     ]
    }
   ],
   "source": [
    "print (files[0:5])\n"
   ]
  },
  {
   "cell_type": "code",
   "execution_count": null,
   "id": "6c493e3b-fa7a-41bd-871e-3b42d0ff0784",
   "metadata": {},
   "outputs": [],
   "source": [
    "#appended to list\n",
    "#now make df by opening files\n",
    "# List to collect DataFrames\n",
    "df_list = []\n",
    "\n",
    "for file in tqdm(files):\n",
    "    with open(file, 'r') as f:\n",
    "        dftemp = pd.json_normalize(safe_load(f))\n",
    "        dftemp['match_id'] = ctr\n",
    "        df_list.append(dftemp)\n",
    "        ctr += 1\n",
    "\n",
    "# Concatenate all DataFrames in the list\n",
    "df = pd.concat(df_list, ignore_index=True)"
   ]
  },
  {
   "cell_type": "code",
   "execution_count": null,
   "id": "3c8dde6d-f1f6-4374-9555-40d0f58e9515",
   "metadata": {},
   "outputs": [],
   "source": [
    "df.head()"
   ]
  },
  {
   "cell_type": "code",
   "execution_count": null,
   "id": "9a75f5b3-325d-4c75-875b-6ca8aeace005",
   "metadata": {},
   "outputs": [],
   "source": [
    "df = df[df['info.gender']=='male']\n",
    "df.drop(columns=['info.gender'], inplace = True)\n",
    "df"
   ]
  },
  {
   "cell_type": "code",
   "execution_count": null,
   "id": "1a820fe6-a5d0-47d5-9d38-4a301e17b9c5",
   "metadata": {},
   "outputs": [],
   "source": [
    "df.drop(columns={\n",
    "    'meta.data_version',\n",
    "    'meta.created',\n",
    "    'meta.revision',\n",
    "    'info.supersubs.New Zealand',\n",
    "    'info.supersubs.South Africa',\n",
    "    'info.outcome.bowl_out',\n",
    "    'info.bowl_out',\n",
    "    'info.outcome.by.wickets',\n",
    "    'info.outcome.by.runs',\n",
    "    'info.match_type_number',\n",
    "    'info.neutral_venue',\n",
    "    'info.outcome.method',\n",
    "    'info.outcome.result',\n",
    "    'info.outcome.eliminator'\n",
    "    \n",
    "}, inplace = True)"
   ]
  },
  {
   "cell_type": "code",
   "execution_count": null,
   "id": "c59fe54e-4d28-404f-9a82-ec66ce73862c",
   "metadata": {},
   "outputs": [],
   "source": [
    "df['info.match_type'].value_counts()"
   ]
  },
  {
   "cell_type": "code",
   "execution_count": null,
   "id": "eaa13103-c2d7-4450-a724-246b4ec88d28",
   "metadata": {},
   "outputs": [],
   "source": [
    "df['info.overs'].value_counts()"
   ]
  },
  {
   "cell_type": "code",
   "execution_count": null,
   "id": "490b872e-c4cf-4ede-bf36-6020be9119ce",
   "metadata": {},
   "outputs": [],
   "source": [
    "df.drop(columns = 'info.match_type')"
   ]
  },
  {
   "cell_type": "code",
   "execution_count": null,
   "id": "4861d2eb-4fda-4bbe-af3d-745a921b8589",
   "metadata": {},
   "outputs": [],
   "source": [
    "df = df[df['info.overs']==20]"
   ]
  },
  {
   "cell_type": "code",
   "execution_count": null,
   "id": "b346c183-3ab4-4a4e-af5f-12611d15a702",
   "metadata": {},
   "outputs": [],
   "source": [
    "df"
   ]
  },
  {
   "cell_type": "code",
   "execution_count": null,
   "id": "981165c5-64bb-435a-8e65-e4cb1fb6f17e",
   "metadata": {},
   "outputs": [],
   "source": [
    "df.drop(columns = 'info.overs')"
   ]
  },
  {
   "cell_type": "code",
   "execution_count": null,
   "id": "a5462d79-e861-4525-a821-8ac495b86fc1",
   "metadata": {},
   "outputs": [],
   "source": [
    "import pickle\n"
   ]
  },
  {
   "cell_type": "code",
   "execution_count": null,
   "id": "1c469a0c-8506-4ce5-b946-e6d52f7aa3ca",
   "metadata": {},
   "outputs": [],
   "source": [
    "pickle.dump(df, open('dataset.pkl', 'wb'))"
   ]
  },
  {
   "cell_type": "code",
   "execution_count": null,
   "id": "81b6c99d-c48a-4beb-8fe2-96f20e614b4f",
   "metadata": {},
   "outputs": [],
   "source": [
    "m = pickle.load(open('dataset.pkl', 'rb'))\n",
    "m"
   ]
  },
  {
   "cell_type": "code",
   "execution_count": null,
   "id": "0c2288da-b975-4cb4-a6b5-b4fe15a702aa",
   "metadata": {},
   "outputs": [],
   "source": [
    "#file saved\n"
   ]
  },
  {
   "cell_type": "code",
   "execution_count": 9,
   "id": "fc8eeb10-1eda-4174-ba19-62f0710ca2dc",
   "metadata": {},
   "outputs": [],
   "source": [
    "#This is the data we need"
   ]
  },
  {
   "cell_type": "code",
   "execution_count": null,
   "id": "311777ea-df8f-4e86-a64a-d4aadbd9a14a",
   "metadata": {},
   "outputs": [],
   "source": [
    "balls_innings1 = pd.DataFrame()\n",
    "#dataframe for team in first innings, we will make one for second innings too\n",
    "ctr = 1\n",
    "dfs = []\n",
    "for index, row in m.iterrows():\n",
    "    if ctr in [75,108,150,180,268,360,443,458,584,748,982,1052,1111,1226,1345]:\n",
    "        ctr +=1\n",
    "        continue\n",
    "    ctr+=1\n",
    "    ball_no = []\n",
    "    batsman = []\n",
    "    bowler = []\n",
    "    runs = []\n",
    "    player_dismissed = []\n",
    "    teams = []\n",
    "    batting_team = []\n",
    "    match_id = []\n",
    "    city = []\n",
    "    venue = []\n",
    "    wickets = []\n",
    "    for ball in row['innings'][0]['1st innings']['deliveries']:\n",
    "        for key in ball.keys():\n",
    "            match_id.append(ctr)\n",
    "            batting_team.append(row['innings'][0]['1st innings']['team'])\n",
    "            teams.append(row['info.teams'])\n",
    "            ball_no.append(key)\n",
    "            batsman.append(ball[key]['batsman'])\n",
    "            bowler.append(ball[key]['bowler'])\n",
    "            runs.append(ball[key]['runs']['total'])\n",
    "            city.append(row['info.city'])\n",
    "            venue.append(row['info.venue'])\n",
    "            try:\n",
    "                player_dismissed.append(ball[key]['wicket']['player_out'])\n",
    "            except:\n",
    "                player_dismissed.append('0')\n",
    "            try: \n",
    "                if (ball[key]['wicket']):\n",
    "                    wickets.append(0)\n",
    "            except:\n",
    "                wickets.append(0)\n",
    "    \n",
    "    iterdf = pd.DataFrame({\n",
    "            'match_id':match_id,\n",
    "            'teams':teams,\n",
    "            'batting_team':batting_team,\n",
    "            'ball':ball_no,\n",
    "            'batsman':batsman,\n",
    "            'bowler':bowler,\n",
    "            'runs':runs,\n",
    "            'player_dismissed':player_dismissed,\n",
    "            'city':city,\n",
    "            'venue':venue,\n",
    "            'wicket': wickets\n",
    "        })\n",
    "    dfs.append(iterdf)\n",
    "    balls_innings1 = pd.concat(dfs, ignore_index=True)\n",
    "    \n",
    "    \n",
    "    \n",
    "    \n"
   ]
  },
  {
   "cell_type": "code",
   "execution_count": 12,
   "id": "ec0b7afc-6f89-410f-8b10-ecc6780b64ca",
   "metadata": {},
   "outputs": [
    {
     "data": {
      "text/html": [
       "<div>\n",
       "<style scoped>\n",
       "    .dataframe tbody tr th:only-of-type {\n",
       "        vertical-align: middle;\n",
       "    }\n",
       "\n",
       "    .dataframe tbody tr th {\n",
       "        vertical-align: top;\n",
       "    }\n",
       "\n",
       "    .dataframe thead th {\n",
       "        text-align: right;\n",
       "    }\n",
       "</style>\n",
       "<table border=\"1\" class=\"dataframe\">\n",
       "  <thead>\n",
       "    <tr style=\"text-align: right;\">\n",
       "      <th></th>\n",
       "    </tr>\n",
       "  </thead>\n",
       "  <tbody>\n",
       "  </tbody>\n",
       "</table>\n",
       "</div>"
      ],
      "text/plain": [
       "Empty DataFrame\n",
       "Columns: []\n",
       "Index: []"
      ]
     },
     "execution_count": 12,
     "metadata": {},
     "output_type": "execute_result"
    }
   ],
   "source": [
    "balls_innings1"
   ]
  },
  {
   "cell_type": "code",
   "execution_count": null,
   "id": "dd7a65dd-8f21-4035-8f9a-2fa094ac82b0",
   "metadata": {},
   "outputs": [],
   "source": []
  },
  {
   "cell_type": "code",
   "execution_count": null,
   "id": "8351b282-79f2-40e5-b993-7f0ef5d93a26",
   "metadata": {},
   "outputs": [],
   "source": []
  },
  {
   "cell_type": "code",
   "execution_count": null,
   "id": "c6510a3f-d94a-4f6b-b259-77ad11a285a8",
   "metadata": {},
   "outputs": [],
   "source": []
  },
  {
   "cell_type": "code",
   "execution_count": null,
   "id": "d2125fde-e5f9-40b0-b20c-f847d597a8ea",
   "metadata": {},
   "outputs": [],
   "source": []
  },
  {
   "cell_type": "code",
   "execution_count": null,
   "id": "474c2e44-be2d-4ca3-a781-5d21e1997550",
   "metadata": {},
   "outputs": [],
   "source": []
  },
  {
   "cell_type": "code",
   "execution_count": null,
   "id": "806b7d37-2df7-4ff4-a5f2-1a9b4937f031",
   "metadata": {},
   "outputs": [],
   "source": []
  }
 ],
 "metadata": {
  "kernelspec": {
   "display_name": "Python 3 (ipykernel)",
   "language": "python",
   "name": "python3"
  },
  "language_info": {
   "codemirror_mode": {
    "name": "ipython",
    "version": 3
   },
   "file_extension": ".py",
   "mimetype": "text/x-python",
   "name": "python",
   "nbconvert_exporter": "python",
   "pygments_lexer": "ipython3",
   "version": "3.12.3"
  }
 },
 "nbformat": 4,
 "nbformat_minor": 5
}
